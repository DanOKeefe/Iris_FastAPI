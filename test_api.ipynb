{
 "cells": [
  {
   "cell_type": "code",
   "execution_count": 1,
   "metadata": {},
   "outputs": [
    {
     "name": "stdout",
     "output_type": "stream",
     "text": [
      "{'Confidence': {'Virginica': 0.6746, 'Versicolor': 0.3251, 'Setosa': 0.0003}}\n"
     ]
    }
   ],
   "source": [
    "import json\n",
    "import requests\n",
    "\n",
    "data = {\n",
    "    'sepal_length': 6.4,\n",
    "    'sepal_width': 2.9,\n",
    "    'petal_length': 5.2,\n",
    "    'petal_width': 1.6\n",
    "}\n",
    "data_json = json.dumps(data)\n",
    "url_string = f'http://localhost:8000/predict'\n",
    "r = requests.get(url_string, data=data_json)\n",
    "\n",
    "print(r.json())"
   ]
  }
 ],
 "metadata": {
  "kernelspec": {
   "display_name": "Python 3",
   "language": "python",
   "name": "python3"
  },
  "language_info": {
   "codemirror_mode": {
    "name": "ipython",
    "version": 3
   },
   "file_extension": ".py",
   "mimetype": "text/x-python",
   "name": "python",
   "nbconvert_exporter": "python",
   "pygments_lexer": "ipython3",
   "version": "3.8.3"
  }
 },
 "nbformat": 4,
 "nbformat_minor": 4
}
